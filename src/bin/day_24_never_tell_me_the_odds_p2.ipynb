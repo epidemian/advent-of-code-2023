{
  "cells": [
    {
      "cell_type": "markdown",
      "metadata": {
        "id": "SohNSQ1bT9Yf"
      },
      "source": [
        "On part 2 of AoC 2023 day 24 puzzle we are given a set of hailstones' initial positions and velocities, and we need to find the initial position and velocity of a rock so that it intersects all the hailstones.\n",
        "\n",
        "All these things move at constant velocities in 3D space, and the given trajectories of the hailstones are crafted in such a way that finding that rock position and velocity is possible.\n",
        "\n",
        "So what we're doing is trying to find a line that intersects multiple other lines.\n",
        "\n",
        "The line of one of these moving objects can be expressed as:\n",
        "\n",
        "$$(x, y, z) = (x_0, y_0,4 z_0) + t(v_x, v_y, v_z)$$\n",
        "\n",
        "Or, using 3D variables:\n",
        "\n",
        "$$(x, y, z) = P_0 + tV$$\n",
        "\n",
        "Where $P_0$ is the initial position of the object, $V$ is its velocity, and $t$ is the elapsed time.\n",
        "\n",
        "We know that the rock we throw and a given hailstone will be at the exact same position at one time. We can express that as:\n",
        "\n",
        "$$P + t V = H_p + t H_v$$\n",
        "\n",
        "The initial rock position and velocity, $P$ and $V$, are what we're trying to find. The hailstone position and velocity are given. And $t$ is the collision time between the two.\n",
        "\n",
        "We can extend this for all hailstones:\n",
        "\n",
        "$$P + t_1 V = H_{1p} + t_1 H_{1v}$$\n",
        "\n",
        "$$P + t_2 V = H_{2p} + t_2 H_{2v}$$\n",
        "\n",
        "$$\\vdots$$\n",
        "\n",
        "$$P + t_n V = H_{np} + t_n H_{nv}$$\n",
        "\n",
        "The time variables $t_n$ are different because the rock meets each hailstone at a different time.\n",
        "\n",
        "Each of these equations represents 3 1-dimensional equations. Since we need to solve 6 variables for the initial rock conditions (3 for the position + 3 for the velocity), plus 1 time variable for each hailstone intersection, we need at least 4 hailstones to solve this system. Which totals 10 variables and 12 equations. We trust the solution to exist and be unique given the first 4 hailstones' trajectories.\n",
        "\n",
        "Using `sympy`, we can express and solve this system of equations:"
      ]
    },
    {
      "cell_type": "code",
      "execution_count": 1,
      "metadata": {
        "id": "rQDi-50NiKVa"
      },
      "outputs": [],
      "source": [
        "from sympy import solve, symbols\n",
        "\n",
        "def find_rock_pos(hailstones):\n",
        "    rx, ry, rz, vx, vy, vz = symbols('rx, ry, rz, vx, vy, vz')\n",
        "    t1, t2, t3, t4 = symbols('t1, t2, t3, t4')\n",
        "    eqs = []\n",
        "    for h, t in zip(hailstones[0:4], [t1, t2, t3, t4]):\n",
        "        (hx, hy, hz), (hvx, hvy, hvz) = h\n",
        "        eqs += [\n",
        "            rx + t * vx - hx - t * hvx,\n",
        "            ry + t * vy - hy - t * hvy,\n",
        "            rz + t * vz - hz - t * hvz,\n",
        "        ]\n",
        "    s, *rest  = solve(eqs, [rx, ry, rz, vx, vy, vz, t1, t2, t3, t4], dict=True)\n",
        "    return s[rx], s[ry], s[rz]"
      ]
    },
    {
      "cell_type": "markdown",
      "metadata": {
        "id": "HH_e61zac01B"
      },
      "source": [
        "And with this, we can find the initial rock position for the sample hailstones:"
      ]
    },
    {
      "cell_type": "code",
      "execution_count": 2,
      "metadata": {
        "colab": {
          "base_uri": "https://localhost:8080/"
        },
        "id": "ka49ByORMv2Y",
        "outputId": "93f0b8a3-0166-43bd-fdc1-c1126ecb1a05"
      },
      "outputs": [
        {
          "data": {
            "text/plain": [
              "(24, 13, 10)"
            ]
          },
          "execution_count": 2,
          "metadata": {},
          "output_type": "execute_result"
        }
      ],
      "source": [
        "sample_hailstones = [\n",
        "    ((19, 13, 30), (-2,  1, -2)),\n",
        "    ((18, 19, 22), (-1, -1, -2)),\n",
        "    ((20, 25, 34), (-2, -2, -4)),\n",
        "    ((12, 31, 28), (-1, -2, -1)),\n",
        "    ((20, 19, 15), ( 1, -5, -3)),\n",
        "]\n",
        "find_rock_pos(sample_hailstones)"
      ]
    },
    {
      "cell_type": "markdown",
      "metadata": {
        "id": "ARufmpJbSV3P"
      },
      "source": [
        "The real puzzle input contains many more hailstones, but 4 are enough to find the rock:"
      ]
    },
    {
      "cell_type": "code",
      "execution_count": 3,
      "metadata": {
        "colab": {
          "base_uri": "https://localhost:8080/"
        },
        "id": "05exKNWaRNpS",
        "outputId": "0e76292a-4300-4f72-de4c-3acc73ee7b61"
      },
      "outputs": [
        {
          "data": {
            "text/plain": [
              "(270890255948806, 91424430975421, 238037673112552)"
            ]
          },
          "execution_count": 3,
          "metadata": {},
          "output_type": "execute_result"
        }
      ],
      "source": [
        "input_hailstones = [\n",
        "    ((257520024329236, 69140711609471, 263886787577054), (21, 351, 72)),\n",
        "    ((227164924449606, 333280170830371, 330954002548352), (70, -28, -35)),\n",
        "    ((269125649340143, 131766988959682, 261281801543906), (35, -337, -281)),\n",
        "    ((220308068691946, 434660701646971, 160719186877066), (76, -149, 208)),\n",
        "]\n",
        "find_rock_pos(input_hailstones)"
      ]
    },
    {
      "cell_type": "markdown",
      "metadata": {
        "id": "ows_5RM_dDkE"
      },
      "source": [
        "Finally, the puzzle answer is the sum of the rock's coordinates:"
      ]
    },
    {
      "cell_type": "code",
      "execution_count": 4,
      "metadata": {
        "colab": {
          "base_uri": "https://localhost:8080/",
          "height": 37
        },
        "id": "x7zYxPCWRkMI",
        "outputId": "8663074c-b16c-4490-c25e-f547be5a40ba"
      },
      "outputs": [
        {
          "data": {
            "text/latex": [
              "$\\displaystyle 600352360036779$"
            ],
            "text/plain": [
              "600352360036779"
            ]
          },
          "execution_count": 4,
          "metadata": {},
          "output_type": "execute_result"
        }
      ],
      "source": [
        "sum(find_rock_pos(input_hailstones))"
      ]
    }
  ],
  "metadata": {
    "colab": {
      "provenance": []
    },
    "kernelspec": {
      "display_name": "Python 3",
      "name": "python3"
    },
    "language_info": {
      "name": "python",
      "version": "3.11.6"
    }
  },
  "nbformat": 4,
  "nbformat_minor": 0
}
